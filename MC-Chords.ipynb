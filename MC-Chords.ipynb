{
 "cells": [
  {
   "cell_type": "markdown",
   "metadata": {},
   "source": [
    "# Markov Chains and Chord Progressions"
   ]
  },
  {
   "cell_type": "code",
   "execution_count": 2,
   "metadata": {},
   "outputs": [],
   "source": [
    "import numpy as np\n",
    "from music21 import *"
   ]
  },
  {
   "cell_type": "code",
   "execution_count": 3,
   "metadata": {},
   "outputs": [],
   "source": [
    "# only run the below to configure music21 for viewing/generating sheet music\n",
    "# configure.run()"
   ]
  },
  {
   "cell_type": "code",
   "execution_count": 4,
   "metadata": {},
   "outputs": [
    {
     "name": "stdout",
     "output_type": "stream",
     "text": [
      "Chord numbers: [0 1 2 3 4 5 6]\n",
      "Chord names: ['major_first' 'minor_second' 'minor_third' 'major_fourth' 'major_fifth'\n",
      " 'minor_sixth' 'dim_seventh']\n",
      "Represented as a combined array: [['major_first' '0']\n",
      " ['minor_second' '1']\n",
      " ['minor_third' '2']\n",
      " ['major_fourth' '3']\n",
      " ['major_fifth' '4']\n",
      " ['minor_sixth' '5']\n",
      " ['dim_seventh' '6']]\n"
     ]
    }
   ],
   "source": [
    "# set up chords\n",
    "chord_numbers = np.array(range(0,7))\n",
    "print(\"Chord numbers:\", chord_numbers)\n",
    "\n",
    "chord_names = np.array([\"major_first\", \"minor_second\", \"minor_third\", \"major_fourth\", \"major_fifth\", \"minor_sixth\", \"dim_seventh\"])\n",
    "print(\"Chord names:\", chord_names)\n",
    "\n",
    "chord_combined = np.column_stack((chord_names, chord_numbers))\n",
    "print(\"Represented as a combined array:\", chord_combined)"
   ]
  },
  {
   "cell_type": "code",
   "execution_count": 5,
   "metadata": {},
   "outputs": [
    {
     "data": {
      "text/plain": [
       "array([[0, 1, 1, 1, 1, 1, 1],\n",
       "       [0, 0, 0, 0, 0, 1, 1],\n",
       "       [0, 1, 0, 1, 0, 1, 0],\n",
       "       [1, 1, 0, 0, 1, 0, 1],\n",
       "       [1, 0, 0, 0, 0, 0, 0],\n",
       "       [0, 1, 0, 1, 1, 0, 0],\n",
       "       [1, 0, 0, 0, 0, 0, 0]])"
      ]
     },
     "execution_count": 5,
     "metadata": {},
     "output_type": "execute_result"
    }
   ],
   "source": [
    "# transition diagram - not normalized \n",
    "\n",
    "chord_transitions = np.array([\n",
    "                            [0, 1, 1, 1, 1, 1, 1], # major first\n",
    "                            [0, 0, 0, 0, 0, 1, 1], # minor 2nd\n",
    "                            [0, 1, 0, 1, 0, 1, 0], # minor third\n",
    "                            [1, 1, 0, 0, 1, 0, 1], # major fourth\n",
    "                            [1, 0, 0, 0, 0, 0, 0], # major fifth\n",
    "                            [0, 1, 0, 1, 1, 0, 0], # minor 6\n",
    "                            [1, 0, 0, 0, 0, 0, 0], # dim 7\n",
    "    \n",
    "    \n",
    "                            ])\n",
    "chord_transitions"
   ]
  },
  {
   "cell_type": "code",
   "execution_count": 6,
   "metadata": {},
   "outputs": [
    {
     "data": {
      "text/plain": [
       "array([[0.        , 0.16666667, 0.16666667, 0.16666667, 0.16666667,\n",
       "        0.16666667, 0.16666667],\n",
       "       [0.        , 0.        , 0.        , 0.        , 0.        ,\n",
       "        0.5       , 0.5       ],\n",
       "       [0.        , 0.33333333, 0.        , 0.33333333, 0.        ,\n",
       "        0.33333333, 0.        ],\n",
       "       [0.25      , 0.25      , 0.        , 0.        , 0.25      ,\n",
       "        0.        , 0.25      ],\n",
       "       [1.        , 0.        , 0.        , 0.        , 0.        ,\n",
       "        0.        , 0.        ],\n",
       "       [0.        , 0.33333333, 0.        , 0.33333333, 0.33333333,\n",
       "        0.        , 0.        ],\n",
       "       [1.        , 0.        , 0.        , 0.        , 0.        ,\n",
       "        0.        , 0.        ]])"
      ]
     },
     "execution_count": 6,
     "metadata": {},
     "output_type": "execute_result"
    }
   ],
   "source": [
    "# normalize chord matrix\n",
    "\n",
    "# convert to transition matrix \n",
    "\n",
    "# first setup matrix with zeros\n",
    "n = chord_transitions.shape[0]\n",
    "chord_matrix = np.zeros_like(chord_transitions, dtype=float)\n",
    "\n",
    "# normalize values to make rows sum to 1\n",
    "for i in range(n):\n",
    "    if chord_transitions[i].sum() == 0:\n",
    "        chord_matrix[i] = np.ones(n) / n\n",
    "    else:\n",
    "        chord_matrix[i] = chord_transitions[i] / chord_transitions[i].sum()\n",
    "\n",
    "chord_matrix"
   ]
  },
  {
   "cell_type": "code",
   "execution_count": 7,
   "metadata": {},
   "outputs": [],
   "source": [
    "# initial distribution\n",
    "initial_dist = np.array([1, 0, 0, 0, 0, 0, 0])  # always start on 1"
   ]
  },
  {
   "cell_type": "code",
   "execution_count": 8,
   "metadata": {},
   "outputs": [
    {
     "name": "stdout",
     "output_type": "stream",
     "text": [
      "The final chord progression is  34  chords long and has the following progression:  [0, 4, 0, 3, 4, 0, 5, 3, 1, 6, 0, 1, 6, 0, 6, 0, 5, 1, 6, 0, 6, 0, 3, 6, 0, 1, 6, 0, 2, 3, 6, 0, 4, 0]\n"
     ]
    }
   ],
   "source": [
    "# simulation\n",
    "\n",
    "min_steps = 32 # minimum number of steps - progression will need to end on 1\n",
    "max_steps = 40 # maximum number of steps - progression will need to end on 1 \n",
    "\n",
    "initial_chord = 0   # always start on 1 - index at 0\n",
    "chord_progression = [initial_chord] # set up list to hold chord progession\n",
    "for s in range(max_steps):\n",
    "    prev_chord = chord_progression[-1]\n",
    "    next_chord = np.random.choice(chord_numbers, p = chord_matrix[prev_chord])\n",
    "    chord_progression.append(next_chord)\n",
    "\n",
    "    if s >= min_steps:\n",
    "        if next_chord == 0:\n",
    "            break\n",
    "\n",
    "\n",
    "print(\"The final chord progression is \", len(chord_progression), \" chords long and has the following progression: \", chord_progression)\n"
   ]
  },
  {
   "cell_type": "code",
   "execution_count": 18,
   "metadata": {},
   "outputs": [],
   "source": [
    "# construct notes for use in music21 chord constructor\n",
    "notes = [\"C\", \"D\", \"E\", \"F\", \"G\", \"A\", \"B\", \"C\", \"D\", \"E\", \"F\"]\n",
    "octaves = [\"4\", \"4\", \"4\", \"4\", \"4\", \"4\", \"4\", \"5\",\"5\",\"5\",\"5\"]\n",
    "note_oct = []\n"
   ]
  },
  {
   "cell_type": "code",
   "execution_count": 10,
   "metadata": {},
   "outputs": [
    {
     "data": {
      "text/plain": [
       "'C4'"
      ]
     },
     "execution_count": 10,
     "metadata": {},
     "output_type": "execute_result"
    }
   ],
   "source": [
    "# example of note octave notation \n",
    "C_4 = str(notes[0] + octaves[0])\n",
    "C_4"
   ]
  },
  {
   "cell_type": "code",
   "execution_count": 19,
   "metadata": {},
   "outputs": [
    {
     "data": {
      "text/plain": [
       "['C4', 'D4', 'E4', 'F4', 'G4', 'A4', 'B4', 'C5', 'D5', 'E5', 'F5']"
      ]
     },
     "execution_count": 19,
     "metadata": {},
     "output_type": "execute_result"
    }
   ],
   "source": [
    "# pair notes with octaves\n",
    "\n",
    "for i in range(0, len(notes)):\n",
    "    n = str(notes[i] + octaves[i])\n",
    "    note_oct.append(n)\n",
    "note_oct"
   ]
  },
  {
   "cell_type": "code",
   "execution_count": 12,
   "metadata": {},
   "outputs": [
    {
     "data": {
      "text/plain": [
       "<module 'music21.chord' from 'c:\\\\Users\\\\Myranda\\\\AppData\\\\Local\\\\Programs\\\\Python\\\\Python39\\\\lib\\\\site-packages\\\\music21\\\\chord\\\\__init__.py'>"
      ]
     },
     "execution_count": 12,
     "metadata": {},
     "output_type": "execute_result"
    }
   ],
   "source": [
    "chord"
   ]
  },
  {
   "cell_type": "code",
   "execution_count": 20,
   "metadata": {},
   "outputs": [
    {
     "name": "stdout",
     "output_type": "stream",
     "text": [
      "[<music21.chord.Chord C4 E4 G4>, <music21.chord.Chord G4 B4 D5>, <music21.chord.Chord C4 E4 G4>, <music21.chord.Chord F4 A4 C5>, <music21.chord.Chord G4 B4 D5>, <music21.chord.Chord C4 E4 G4>, <music21.chord.Chord A4 C5 E5>, <music21.chord.Chord F4 A4 C5>, <music21.chord.Chord D4 F4 A4>, <music21.chord.Chord B4 D5 F5>, <music21.chord.Chord C4 E4 G4>, <music21.chord.Chord D4 F4 A4>, <music21.chord.Chord B4 D5 F5>, <music21.chord.Chord C4 E4 G4>, <music21.chord.Chord B4 D5 F5>, <music21.chord.Chord C4 E4 G4>, <music21.chord.Chord A4 C5 E5>, <music21.chord.Chord D4 F4 A4>, <music21.chord.Chord B4 D5 F5>, <music21.chord.Chord C4 E4 G4>, <music21.chord.Chord B4 D5 F5>, <music21.chord.Chord C4 E4 G4>, <music21.chord.Chord F4 A4 C5>, <music21.chord.Chord B4 D5 F5>, <music21.chord.Chord C4 E4 G4>, <music21.chord.Chord D4 F4 A4>, <music21.chord.Chord B4 D5 F5>, <music21.chord.Chord C4 E4 G4>, <music21.chord.Chord E4 G4 B4>, <music21.chord.Chord F4 A4 C5>, <music21.chord.Chord B4 D5 F5>, <music21.chord.Chord C4 E4 G4>, <music21.chord.Chord G4 B4 D5>, <music21.chord.Chord C4 E4 G4>]\n"
     ]
    }
   ],
   "source": [
    "# construct chords using music21\n",
    "chord_list = []\n",
    "\n",
    "for c in chord_progression:\n",
    "    starting_note = note_oct[c]\n",
    "    third = note_oct[c+2]\n",
    "    fifth = note_oct[c+4]\n",
    "    ch = chord.Chord([starting_note, third, fifth])\n",
    "    chord_list.append(ch)\n",
    "\n",
    "print(chord_list)"
   ]
  },
  {
   "cell_type": "code",
   "execution_count": 14,
   "metadata": {},
   "outputs": [],
   "source": [
    "#configure.run()"
   ]
  },
  {
   "cell_type": "code",
   "execution_count": 15,
   "metadata": {},
   "outputs": [],
   "source": [
    "chord_list[0].show(\"musicxml\")"
   ]
  },
  {
   "cell_type": "code",
   "execution_count": 21,
   "metadata": {},
   "outputs": [
    {
     "name": "stdout",
     "output_type": "stream",
     "text": [
      "{0.0} <music21.chord.Chord C4 E4 G4>\n",
      "{1.0} <music21.chord.Chord G4 B4 D5>\n",
      "{2.0} <music21.chord.Chord C4 E4 G4>\n",
      "{3.0} <music21.chord.Chord F4 A4 C5>\n",
      "{4.0} <music21.chord.Chord G4 B4 D5>\n",
      "{5.0} <music21.chord.Chord C4 E4 G4>\n",
      "{6.0} <music21.chord.Chord A4 C5 E5>\n",
      "{7.0} <music21.chord.Chord F4 A4 C5>\n",
      "{8.0} <music21.chord.Chord D4 F4 A4>\n",
      "{9.0} <music21.chord.Chord B4 D5 F5>\n",
      "{10.0} <music21.chord.Chord C4 E4 G4>\n",
      "{11.0} <music21.chord.Chord D4 F4 A4>\n",
      "{12.0} <music21.chord.Chord B4 D5 F5>\n",
      "{13.0} <music21.chord.Chord C4 E4 G4>\n",
      "{14.0} <music21.chord.Chord B4 D5 F5>\n",
      "{15.0} <music21.chord.Chord C4 E4 G4>\n",
      "{16.0} <music21.chord.Chord A4 C5 E5>\n",
      "{17.0} <music21.chord.Chord D4 F4 A4>\n",
      "{18.0} <music21.chord.Chord B4 D5 F5>\n",
      "{19.0} <music21.chord.Chord C4 E4 G4>\n",
      "{20.0} <music21.chord.Chord B4 D5 F5>\n",
      "{21.0} <music21.chord.Chord C4 E4 G4>\n",
      "{22.0} <music21.chord.Chord F4 A4 C5>\n",
      "{23.0} <music21.chord.Chord B4 D5 F5>\n",
      "{24.0} <music21.chord.Chord C4 E4 G4>\n",
      "{25.0} <music21.chord.Chord D4 F4 A4>\n",
      "{26.0} <music21.chord.Chord B4 D5 F5>\n",
      "{27.0} <music21.chord.Chord C4 E4 G4>\n",
      "{28.0} <music21.chord.Chord E4 G4 B4>\n",
      "{29.0} <music21.chord.Chord F4 A4 C5>\n",
      "{30.0} <music21.chord.Chord B4 D5 F5>\n",
      "{31.0} <music21.chord.Chord C4 E4 G4>\n",
      "{32.0} <music21.chord.Chord G4 B4 D5>\n",
      "{33.0} <music21.chord.Chord C4 E4 G4>\n"
     ]
    }
   ],
   "source": [
    "# add all chords to a stream\n",
    "\n",
    "chord_stream = stream.Stream()\n",
    "for c in chord_list:\n",
    "    chord_stream.append(c)\n",
    "\n",
    "chord_stream.show(\"text\")"
   ]
  },
  {
   "cell_type": "code",
   "execution_count": null,
   "metadata": {},
   "outputs": [],
   "source": [
    "chord_stream.show(\"musicxml\")"
   ]
  },
  {
   "cell_type": "markdown",
   "metadata": {},
   "source": [
    "Now we have a chord progression! Let's add a melody line."
   ]
  },
  {
   "cell_type": "code",
   "execution_count": null,
   "metadata": {},
   "outputs": [],
   "source": [
    "note_transitions = [\"up\", \"down\", \"same\"]\n"
   ]
  },
  {
   "cell_type": "code",
   "execution_count": 27,
   "metadata": {},
   "outputs": [
    {
     "data": {
      "text/plain": [
       "<music21.note.Note D>"
      ]
     },
     "execution_count": 27,
     "metadata": {},
     "output_type": "execute_result"
    }
   ],
   "source": [
    "# playground\n",
    "\n",
    "first_note = \"C4\"\n",
    "first_chord = chord_list[0]\n",
    "\n",
    "next_chord = chord_list[1]\n",
    "next_note_index = np.random.choice([0,1,2], p = [1/3,1/3,1/3])\n",
    "next_note = next_chord.notes[next_note_index]\n",
    "next_note"
   ]
  },
  {
   "cell_type": "code",
   "execution_count": 47,
   "metadata": {},
   "outputs": [
    {
     "name": "stdout",
     "output_type": "stream",
     "text": [
      "{0.0} <music21.note.Note C>\n",
      "{1.0} <music21.note.Note G>\n",
      "{2.0} <music21.note.Note C>\n",
      "{3.0} <music21.note.Note F>\n",
      "{4.0} <music21.note.Note D>\n",
      "{5.0} <music21.note.Note C>\n",
      "{6.0} <music21.note.Note A>\n",
      "{7.0} <music21.note.Note C>\n",
      "{8.0} <music21.note.Note A>\n",
      "{9.0} <music21.note.Note D>\n",
      "{10.0} <music21.note.Note E>\n",
      "{11.0} <music21.note.Note D>\n",
      "{12.0} <music21.note.Note B>\n",
      "{13.0} <music21.note.Note C>\n",
      "{14.0} <music21.note.Note F>\n",
      "{15.0} <music21.note.Note E>\n",
      "{16.0} <music21.note.Note E>\n",
      "{17.0} <music21.note.Note A>\n",
      "{18.0} <music21.note.Note D>\n",
      "{19.0} <music21.note.Note C>\n",
      "{20.0} <music21.note.Note F>\n",
      "{21.0} <music21.note.Note G>\n",
      "{22.0} <music21.note.Note F>\n",
      "{23.0} <music21.note.Note F>\n",
      "{24.0} <music21.note.Note C>\n",
      "{25.0} <music21.note.Note D>\n",
      "{26.0} <music21.note.Note F>\n",
      "{27.0} <music21.note.Note E>\n",
      "{28.0} <music21.note.Note G>\n",
      "{29.0} <music21.note.Note F>\n",
      "{30.0} <music21.note.Note F>\n",
      "{31.0} <music21.note.Note C>\n",
      "{32.0} <music21.note.Note B>\n",
      "{33.0} <music21.note.Note C>\n"
     ]
    }
   ],
   "source": [
    "# go through a melody line (following some music rules: tritones, major sevenths)\n",
    "\n",
    "# set first note as tonic\n",
    "melody = [chord_list[0].notes[0]]\n",
    "melody_stream = stream.Stream()\n",
    "melody_stream.append(chord_list[0].notes[0])\n",
    "\n",
    "# find next note, set to same octave\n",
    "for i in range(1, len(chord_list)-1):\n",
    "    next_chord = chord_list[i]\n",
    "    next_note_idx = np.random.choice([0,1,2], p = [1/3,1/3,1/3])\n",
    "    next_note = next_chord.notes[next_note_idx]\n",
    "    next_note.octave = 4\n",
    "\n",
    "    # check for tritones (augmented 4ths)\n",
    "    prev_note = melody[-1]\n",
    "    note_interval = interval.Interval(prev_note, next_note)\n",
    "    if note_interval.niceName == \"Augmented Fourth\":\n",
    "        possible_notes = [0,1,2]\n",
    "        possible_notes.remove(next_note_idx)\n",
    "        next_note_idx = np.random.choice(possible_notes, p = [0.5,0.5])\n",
    "        next_note = next_chord.notes[next_note_idx]\n",
    "        next_note.octave = 4\n",
    "    \n",
    "    # TODO: check for large intervals\n",
    "\n",
    "    # add to melody line\n",
    "    melody.append(next_note)\n",
    "    melody_stream.append(next_note)\n",
    "\n",
    "# set last note as tonic\n",
    "next_note = chord_list[-1].notes[0]\n",
    "melody.append(next_note)\n",
    "melody_stream.append(next_note)\n",
    "\n",
    "melody_stream.show(\"text\")"
   ]
  },
  {
   "cell_type": "code",
   "execution_count": 53,
   "metadata": {},
   "outputs": [
    {
     "data": {
      "text/plain": [
       "array([[1., 1., 1., 1., 1., 1., 0., 1., 1., 1., 1., 1., 0.],\n",
       "       [1., 1., 1., 1., 1., 1., 0., 1., 1., 1., 1., 1., 0.],\n",
       "       [1., 1., 1., 1., 1., 1., 0., 1., 1., 1., 1., 1., 0.],\n",
       "       [1., 0., 0., 0., 0., 0., 0., 1., 1., 0., 0., 0., 0.],\n",
       "       [1., 0., 0., 0., 0., 0., 0., 1., 1., 0., 0., 0., 0.],\n",
       "       [1., 0., 0., 0., 0., 0., 0., 1., 1., 0., 0., 0., 0.],\n",
       "       [1., 0., 0., 0., 0., 0., 0., 1., 1., 0., 0., 0., 0.],\n",
       "       [1., 1., 1., 1., 1., 1., 0., 1., 1., 1., 1., 1., 0.],\n",
       "       [1., 1., 1., 1., 1., 1., 0., 1., 1., 1., 1., 1., 0.],\n",
       "       [1., 1., 1., 1., 0., 0., 0., 0., 0., 0., 0., 0., 0.],\n",
       "       [1., 1., 1., 1., 0., 0., 0., 0., 0., 0., 0., 0., 0.],\n",
       "       [1., 1., 1., 1., 0., 0., 0., 0., 0., 0., 0., 0., 0.],\n",
       "       [1., 1., 1., 1., 0., 0., 0., 0., 0., 0., 0., 0., 0.]])"
      ]
     },
     "execution_count": 53,
     "metadata": {},
     "output_type": "execute_result"
    }
   ],
   "source": [
    "# generate melody thru intervals\n",
    "# unison, up (second, third, fourth, fifth, sixth, seventh), down (etc)\n",
    "# melody line go up or down\n",
    "# if went up by fourth or greater, must then go down, and vice versa\n",
    "\n",
    "# rows (for each interval): up small, up large, unison, down small, down large\n",
    "# columns: unison, up (interval), down(interval)\n",
    "\n",
    "# occurence for each given past interval is up small \n",
    "# unison, up(all), down(all)\n",
    "up_down_small = [1, 1, 1, 1, 1, 1, 0, 1, 1, 1, 1, 1, 0] # also applies to unison\n",
    "up_large = [1, 0, 0, 0, 0, 0, 0, 1, 1, 0, 0, 0, 0]\n",
    "down_large = [1, 1, 1, 1, 0, 0, 0, 0, 0, 0, 0, 0, 0]\n",
    "\n",
    "num_states = 13 # unison, plus up and down all intervals, no octave jumps\n",
    "\n",
    "transition_states = np.zeros((num_states, num_states))\n",
    "transition_states[0] = up_down_small\n",
    "for i in range(1,3):\n",
    "    transition_states[i] = up_down_small\n",
    "\n",
    "for i in range(3, 7):\n",
    "    transition_states[i] = up_large\n",
    "\n",
    "for i in range(7, 9):\n",
    "    transition_states[i] = up_down_small\n",
    "\n",
    "for i in range(9, num_states):\n",
    "    transition_states[i] = down_large\n",
    "\n",
    "transition_states"
   ]
  },
  {
   "cell_type": "code",
   "execution_count": 48,
   "metadata": {},
   "outputs": [],
   "source": [
    "melody_stream.show(\"musicxml\")"
   ]
  },
  {
   "cell_type": "code",
   "execution_count": 33,
   "metadata": {},
   "outputs": [
    {
     "data": {
      "text/plain": [
       "5"
      ]
     },
     "execution_count": 33,
     "metadata": {},
     "output_type": "execute_result"
    }
   ],
   "source": [
    "# playground\n",
    "# can set octaves\n",
    "melody[0].octave = 5\n",
    "melody[0].octave"
   ]
  },
  {
   "cell_type": "code",
   "execution_count": 42,
   "metadata": {},
   "outputs": [
    {
     "data": {
      "text/plain": [
       "'Augmented Fourth'"
      ]
     },
     "execution_count": 42,
     "metadata": {},
     "output_type": "execute_result"
    }
   ],
   "source": [
    "f_note = note.Note(\"F5\")\n",
    "b_note = note.Note(\"B5\")\n",
    "\n",
    "interval.Interval(f_note, b_note).niceName"
   ]
  },
  {
   "cell_type": "code",
   "execution_count": 46,
   "metadata": {},
   "outputs": [
    {
     "data": {
      "text/plain": [
       "[2, 3]"
      ]
     },
     "execution_count": 46,
     "metadata": {},
     "output_type": "execute_result"
    }
   ],
   "source": [
    "a = [1,2,3]\n",
    "a.remove(1)\n",
    "a"
   ]
  }
 ],
 "metadata": {
  "kernelspec": {
   "display_name": "Python 3",
   "language": "python",
   "name": "python3"
  },
  "language_info": {
   "codemirror_mode": {
    "name": "ipython",
    "version": 3
   },
   "file_extension": ".py",
   "mimetype": "text/x-python",
   "name": "python",
   "nbconvert_exporter": "python",
   "pygments_lexer": "ipython3",
   "version": "3.9.0"
  }
 },
 "nbformat": 4,
 "nbformat_minor": 2
}
